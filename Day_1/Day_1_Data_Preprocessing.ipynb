{
 "cells": [
  {
   "cell_type": "markdown",
   "id": "89bc1fc7",
   "metadata": {},
   "source": [
    "# Data Pre-processing "
   ]
  },
  {
   "cell_type": "raw",
   "id": "4b984b36",
   "metadata": {},
   "source": [
    "# Step 1 - Importing the necessary libraries"
   ]
  },
  {
   "cell_type": "code",
   "execution_count": 10,
   "id": "578055f7",
   "metadata": {},
   "outputs": [],
   "source": [
    "## Importing libraries \n",
    "import pandas as pd\n",
    "import numpy as np\n",
    "import matplotlib.pyplot as plt"
   ]
  },
  {
   "cell_type": "raw",
   "id": "ab557e3b",
   "metadata": {},
   "source": [
    "# Step 2 - Importing the data "
   ]
  },
  {
   "cell_type": "code",
   "execution_count": 11,
   "id": "19a52be2",
   "metadata": {},
   "outputs": [
    {
     "data": {
      "text/html": [
       "<div>\n",
       "<style scoped>\n",
       "    .dataframe tbody tr th:only-of-type {\n",
       "        vertical-align: middle;\n",
       "    }\n",
       "\n",
       "    .dataframe tbody tr th {\n",
       "        vertical-align: top;\n",
       "    }\n",
       "\n",
       "    .dataframe thead th {\n",
       "        text-align: right;\n",
       "    }\n",
       "</style>\n",
       "<table border=\"1\" class=\"dataframe\">\n",
       "  <thead>\n",
       "    <tr style=\"text-align: right;\">\n",
       "      <th></th>\n",
       "      <th>Country</th>\n",
       "      <th>Age</th>\n",
       "      <th>Salary</th>\n",
       "      <th>Purchased</th>\n",
       "    </tr>\n",
       "  </thead>\n",
       "  <tbody>\n",
       "    <tr>\n",
       "      <th>0</th>\n",
       "      <td>India</td>\n",
       "      <td>44.0</td>\n",
       "      <td>72000.0</td>\n",
       "      <td>No</td>\n",
       "    </tr>\n",
       "    <tr>\n",
       "      <th>1</th>\n",
       "      <td>SriLanka</td>\n",
       "      <td>27.0</td>\n",
       "      <td>48000.0</td>\n",
       "      <td>Yes</td>\n",
       "    </tr>\n",
       "    <tr>\n",
       "      <th>2</th>\n",
       "      <td>Bangladesh</td>\n",
       "      <td>30.0</td>\n",
       "      <td>54000.0</td>\n",
       "      <td>No</td>\n",
       "    </tr>\n",
       "    <tr>\n",
       "      <th>3</th>\n",
       "      <td>SriLanka</td>\n",
       "      <td>38.0</td>\n",
       "      <td>61000.0</td>\n",
       "      <td>No</td>\n",
       "    </tr>\n",
       "    <tr>\n",
       "      <th>4</th>\n",
       "      <td>Bangladesh</td>\n",
       "      <td>40.0</td>\n",
       "      <td>NaN</td>\n",
       "      <td>Yes</td>\n",
       "    </tr>\n",
       "    <tr>\n",
       "      <th>5</th>\n",
       "      <td>India</td>\n",
       "      <td>35.0</td>\n",
       "      <td>58000.0</td>\n",
       "      <td>Yes</td>\n",
       "    </tr>\n",
       "    <tr>\n",
       "      <th>6</th>\n",
       "      <td>SriLanka</td>\n",
       "      <td>NaN</td>\n",
       "      <td>52000.0</td>\n",
       "      <td>No</td>\n",
       "    </tr>\n",
       "    <tr>\n",
       "      <th>7</th>\n",
       "      <td>India</td>\n",
       "      <td>48.0</td>\n",
       "      <td>79000.0</td>\n",
       "      <td>Yes</td>\n",
       "    </tr>\n",
       "    <tr>\n",
       "      <th>8</th>\n",
       "      <td>Bangladesh</td>\n",
       "      <td>50.0</td>\n",
       "      <td>83000.0</td>\n",
       "      <td>No</td>\n",
       "    </tr>\n",
       "    <tr>\n",
       "      <th>9</th>\n",
       "      <td>India</td>\n",
       "      <td>37.0</td>\n",
       "      <td>67000.0</td>\n",
       "      <td>Yes</td>\n",
       "    </tr>\n",
       "  </tbody>\n",
       "</table>\n",
       "</div>"
      ],
      "text/plain": [
       "      Country   Age   Salary Purchased\n",
       "0       India  44.0  72000.0        No\n",
       "1    SriLanka  27.0  48000.0       Yes\n",
       "2  Bangladesh  30.0  54000.0        No\n",
       "3    SriLanka  38.0  61000.0        No\n",
       "4  Bangladesh  40.0      NaN       Yes\n",
       "5       India  35.0  58000.0       Yes\n",
       "6    SriLanka   NaN  52000.0        No\n",
       "7       India  48.0  79000.0       Yes\n",
       "8  Bangladesh  50.0  83000.0        No\n",
       "9       India  37.0  67000.0       Yes"
      ]
     },
     "execution_count": 11,
     "metadata": {},
     "output_type": "execute_result"
    }
   ],
   "source": [
    "## the below code imports the data from the csv file into a pandas data frame\n",
    "data_pre_process = pd.read_csv(\"C:\\\\Users\\\\supra\\\\Desktop\\\\108_days_of_ML\\\\Day_1_Data_preprocessing\\\\Data.csv\")\n",
    "## To check the imported data \n",
    "data_pre_process.head(10)\n"
   ]
  },
  {
   "cell_type": "code",
   "execution_count": 14,
   "id": "750927d0",
   "metadata": {},
   "outputs": [],
   "source": [
    "## Extracting the dependent and indenpendent variables \n",
    "## Independent Variable - These are the factors that are used in the model to predict the Target Variable \n",
    "## eg. Country, Age and Salary could be used to predict Puchasability of a Car/House etc., Hence, Country, Age, Salary can be considered as independent variable\n",
    "X = data_pre_process.iloc[:, :-1].values\n",
    "## Dependent Variable or Target Variable : It is the variable of interest which is studided or for which the model is built.\n",
    "Y = data_pre_process.iloc[:, -1].values"
   ]
  },
  {
   "cell_type": "code",
   "execution_count": 15,
   "id": "4872b432",
   "metadata": {},
   "outputs": [
    {
     "name": "stdout",
     "output_type": "stream",
     "text": [
      "[['India' 44.0 72000.0]\n",
      " ['SriLanka' 27.0 48000.0]\n",
      " ['Bangladesh' 30.0 54000.0]\n",
      " ['SriLanka' 38.0 61000.0]\n",
      " ['Bangladesh' 40.0 nan]\n",
      " ['India' 35.0 58000.0]\n",
      " ['SriLanka' nan 52000.0]\n",
      " ['India' 48.0 79000.0]\n",
      " ['Bangladesh' 50.0 83000.0]\n",
      " ['India' 37.0 67000.0]]\n"
     ]
    }
   ],
   "source": [
    "## Checking Dependent variables\n",
    "print(X)"
   ]
  },
  {
   "cell_type": "code",
   "execution_count": 16,
   "id": "8e533651",
   "metadata": {},
   "outputs": [
    {
     "name": "stdout",
     "output_type": "stream",
     "text": [
      "['No' 'Yes' 'No' 'No' 'Yes' 'Yes' 'No' 'Yes' 'No' 'Yes']\n"
     ]
    }
   ],
   "source": [
    "##Checking Independent variable \n",
    "print(Y)"
   ]
  },
  {
   "cell_type": "raw",
   "id": "faa66a09",
   "metadata": {},
   "source": [
    "# Step 3 - Handling of Missing Data"
   ]
  },
  {
   "cell_type": "code",
   "execution_count": null,
   "id": "e1aad7ec",
   "metadata": {},
   "outputs": [],
   "source": [
    "## There are two prominent ways to handle a missing data:\n",
    "##  1.Deleting the particular row - This method is not optimal as this could lead to loss of Data. \n",
    "##  2.calculating the mean: Calculating the mean of that column or row which contains any missing value and will put it on the place of missing value."
   ]
  },
  {
   "cell_type": "code",
   "execution_count": null,
   "id": "0a52a998",
   "metadata": {},
   "outputs": [],
   "source": [
    "# To handle missing values, we will use Scikit-learn library in our code, which contains various libraries for building machine learning models. \n",
    "# Here we will use SimpleImputer class of sklearn.impute library."
   ]
  },
  {
   "cell_type": "code",
   "execution_count": 17,
   "id": "27f46a61",
   "metadata": {},
   "outputs": [],
   "source": [
    "#handling missing data (Replacing missing data with the mean value)  \n",
    "from sklearn.impute import SimpleImputer \n",
    "imputer = SimpleImputer(missing_values = np.nan, strategy = 'mean')\n",
    "imputer.fit(X[:, 1:3])\n",
    "X[:, 1:3] = imputer.transform(X[:, 1:3])"
   ]
  },
  {
   "cell_type": "code",
   "execution_count": 18,
   "id": "c68fbda5",
   "metadata": {},
   "outputs": [
    {
     "name": "stdout",
     "output_type": "stream",
     "text": [
      "[['India' 44.0 72000.0]\n",
      " ['SriLanka' 27.0 48000.0]\n",
      " ['Bangladesh' 30.0 54000.0]\n",
      " ['SriLanka' 38.0 61000.0]\n",
      " ['Bangladesh' 40.0 63777.77777777778]\n",
      " ['India' 35.0 58000.0]\n",
      " ['SriLanka' 38.77777777777778 52000.0]\n",
      " ['India' 48.0 79000.0]\n",
      " ['Bangladesh' 50.0 83000.0]\n",
      " ['India' 37.0 67000.0]]\n"
     ]
    }
   ],
   "source": [
    "#checking the replaced data \n",
    "print(X)"
   ]
  },
  {
   "cell_type": "raw",
   "id": "35a58c47",
   "metadata": {},
   "source": [
    "# Step 3 - Encoding Categorical data"
   ]
  },
  {
   "cell_type": "code",
   "execution_count": null,
   "id": "5a285ae2",
   "metadata": {},
   "outputs": [],
   "source": [
    "# Since machine learning model works on mathematics and numbers, but if the dataset would have a categorical variable, then it may create trouble while building the model. \n",
    "# So it is necessary to encode these categorical variables into numbers."
   ]
  },
  {
   "cell_type": "code",
   "execution_count": 23,
   "id": "8d9e83cc",
   "metadata": {},
   "outputs": [],
   "source": [
    "## Encoding Independent variables\n",
    "from sklearn.compose import ColumnTransformer\n",
    "from sklearn.preprocessing import OneHotEncoder\n",
    "ct = ColumnTransformer(transformers = [('encoder', OneHotEncoder(),[0])],remainder = 'passthrough')\n",
    "X = np.array(ct.fit_transform(X))"
   ]
  },
  {
   "cell_type": "code",
   "execution_count": 24,
   "id": "93ded398",
   "metadata": {},
   "outputs": [
    {
     "name": "stdout",
     "output_type": "stream",
     "text": [
      "[[0.0 1.0 0.0 44.0 72000.0]\n",
      " [0.0 0.0 1.0 27.0 48000.0]\n",
      " [1.0 0.0 0.0 30.0 54000.0]\n",
      " [0.0 0.0 1.0 38.0 61000.0]\n",
      " [1.0 0.0 0.0 40.0 63777.77777777778]\n",
      " [0.0 1.0 0.0 35.0 58000.0]\n",
      " [0.0 0.0 1.0 38.77777777777778 52000.0]\n",
      " [0.0 1.0 0.0 48.0 79000.0]\n",
      " [1.0 0.0 0.0 50.0 83000.0]\n",
      " [0.0 1.0 0.0 37.0 67000.0]]\n"
     ]
    }
   ],
   "source": [
    "##checking ohe\n",
    "print(X)"
   ]
  },
  {
   "cell_type": "code",
   "execution_count": 25,
   "id": "a7c20211",
   "metadata": {},
   "outputs": [],
   "source": [
    "## Encoding Dependent variables\n",
    "from sklearn.preprocessing import LabelEncoder\n",
    "le = LabelEncoder()\n",
    "Y = le.fit_transform(Y)"
   ]
  },
  {
   "cell_type": "code",
   "execution_count": 26,
   "id": "59c57aa3",
   "metadata": {},
   "outputs": [
    {
     "name": "stdout",
     "output_type": "stream",
     "text": [
      "[0 1 0 0 1 1 0 1 0 1]\n"
     ]
    }
   ],
   "source": [
    "##checking ohe\n",
    "print(Y)"
   ]
  },
  {
   "cell_type": "raw",
   "id": "9eade36a",
   "metadata": {},
   "source": [
    "# Step 4 - Splitting the Dataset into the Training set and Test set"
   ]
  },
  {
   "cell_type": "code",
   "execution_count": null,
   "id": "97721dfd",
   "metadata": {},
   "outputs": [],
   "source": [
    "# Training Set: A subset of dataset to train the machine learning model, and we already know the output.\n",
    "# Test set: A subset of dataset to test the machine learning model, and by using the test set, model predicts the output."
   ]
  },
  {
   "cell_type": "code",
   "execution_count": null,
   "id": "28d085f3",
   "metadata": {},
   "outputs": [],
   "source": [
    "# In the below code, the first line is used for splitting arrays of the dataset into random train and test subsets.\n",
    "# In the second line, we have used four variables for our output that are\n",
    "# x_train: features for the training data\n",
    "# x_test: features for testing data\n",
    "# y_train: Dependent variables for training data\n",
    "# y_test: Independent variable for testing data\n",
    "\n",
    "# In train_test_split() function, we have passed four parameters in which first two are for arrays of data, \n",
    "# and test_size is for specifying the size of the test set. \n",
    "# The test_size maybe .5, .3, or .2, which tells the dividing ratio of training and testing sets.\n",
    "\n",
    "# The last parameter random_state is used to set a seed for a random generator so that you always get the same result, and the most used value for this is 42."
   ]
  },
  {
   "cell_type": "code",
   "execution_count": 27,
   "id": "9c93a99f",
   "metadata": {},
   "outputs": [],
   "source": [
    "from sklearn.model_selection import train_test_split\n",
    "x_train, x_test, y_train, y_test = train_test_split(X,Y, test_size = 0.2, random_state = 1)"
   ]
  },
  {
   "cell_type": "code",
   "execution_count": 28,
   "id": "0ba712f3",
   "metadata": {},
   "outputs": [
    {
     "name": "stdout",
     "output_type": "stream",
     "text": [
      "[[0.0 0.0 1.0 38.77777777777778 52000.0]\n",
      " [1.0 0.0 0.0 40.0 63777.77777777778]\n",
      " [0.0 1.0 0.0 44.0 72000.0]\n",
      " [0.0 0.0 1.0 38.0 61000.0]\n",
      " [0.0 0.0 1.0 27.0 48000.0]\n",
      " [0.0 1.0 0.0 48.0 79000.0]\n",
      " [1.0 0.0 0.0 50.0 83000.0]\n",
      " [0.0 1.0 0.0 35.0 58000.0]]\n"
     ]
    }
   ],
   "source": [
    "print(x_train)"
   ]
  },
  {
   "cell_type": "code",
   "execution_count": 29,
   "id": "28999283",
   "metadata": {},
   "outputs": [
    {
     "name": "stdout",
     "output_type": "stream",
     "text": [
      "[[1.0 0.0 0.0 30.0 54000.0]\n",
      " [0.0 1.0 0.0 37.0 67000.0]]\n"
     ]
    }
   ],
   "source": [
    "print(x_test)"
   ]
  },
  {
   "cell_type": "code",
   "execution_count": 30,
   "id": "a9e3cb20",
   "metadata": {},
   "outputs": [
    {
     "name": "stdout",
     "output_type": "stream",
     "text": [
      "[0 1 0 0 1 1 0 1]\n"
     ]
    }
   ],
   "source": [
    "print(y_train)"
   ]
  },
  {
   "cell_type": "code",
   "execution_count": 31,
   "id": "bd5f5938",
   "metadata": {},
   "outputs": [
    {
     "name": "stdout",
     "output_type": "stream",
     "text": [
      "[0 1]\n"
     ]
    }
   ],
   "source": [
    "print(y_test)"
   ]
  },
  {
   "cell_type": "raw",
   "id": "1515837e",
   "metadata": {},
   "source": [
    "# Step 5 - Feature Scaling"
   ]
  },
  {
   "cell_type": "code",
   "execution_count": null,
   "id": "1e5c9c0c",
   "metadata": {},
   "outputs": [],
   "source": [
    "# Feature scaling is the final step of data preprocessing in machine learning. \n",
    "# It is a technique to standardize the independent variables of the dataset in a specific range. \n",
    "# In feature scaling, we put the variables in the same range and in the same scale so that no any variable dominate the other variable."
   ]
  },
  {
   "cell_type": "code",
   "execution_count": 33,
   "id": "ffb2e07f",
   "metadata": {},
   "outputs": [],
   "source": [
    "from sklearn.preprocessing import StandardScaler\n",
    "sc = StandardScaler()\n",
    "x_train[:, 3:] = sc.fit_transform(x_train[:, 3:])\n",
    "x_test[:, 3:] = sc.transform(x_test[:, 3:])"
   ]
  },
  {
   "cell_type": "code",
   "execution_count": 34,
   "id": "9039c2bc",
   "metadata": {},
   "outputs": [
    {
     "name": "stdout",
     "output_type": "stream",
     "text": [
      "[[0.0 0.0 1.0 -0.19159184384578545 -1.0781259408412425]\n",
      " [1.0 0.0 0.0 -0.014117293757057777 -0.07013167641635372]\n",
      " [0.0 1.0 0.0 0.566708506533324 0.633562432710455]\n",
      " [0.0 0.0 1.0 -0.30453019390224867 -0.30786617274297867]\n",
      " [0.0 0.0 1.0 -1.9018011447007988 -1.420463615551582]\n",
      " [0.0 1.0 0.0 1.1475343068237058 1.232653363453549]\n",
      " [1.0 0.0 0.0 1.4379472069688968 1.5749910381638885]\n",
      " [0.0 1.0 0.0 -0.7401495441200351 -0.5646194287757332]]\n"
     ]
    }
   ],
   "source": [
    "print(x_train)"
   ]
  },
  {
   "cell_type": "code",
   "execution_count": 35,
   "id": "858fa7af",
   "metadata": {},
   "outputs": [
    {
     "name": "stdout",
     "output_type": "stream",
     "text": [
      "[[1.0 0.0 0.0 -1.4661817944830124 -0.9069571034860727]\n",
      " [0.0 1.0 0.0 -0.44973664397484414 0.2056403393225306]]\n"
     ]
    }
   ],
   "source": [
    "print(x_test)"
   ]
  },
  {
   "cell_type": "code",
   "execution_count": null,
   "id": "4359c9c0",
   "metadata": {},
   "outputs": [],
   "source": []
  }
 ],
 "metadata": {
  "kernelspec": {
   "display_name": "Python 3",
   "language": "python",
   "name": "python3"
  },
  "language_info": {
   "codemirror_mode": {
    "name": "ipython",
    "version": 3
   },
   "file_extension": ".py",
   "mimetype": "text/x-python",
   "name": "python",
   "nbconvert_exporter": "python",
   "pygments_lexer": "ipython3",
   "version": "3.9.4"
  }
 },
 "nbformat": 4,
 "nbformat_minor": 5
}
